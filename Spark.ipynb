{
  "cells": [
    {
      "cell_type": "code",
      "execution_count": null,
      "id": "713ae128-0298-42a0-a74b-2491945f1428",
      "metadata": {
        "id": "713ae128-0298-42a0-a74b-2491945f1428",
        "outputId": "cc6174a8-7a82-48cf-8965-1f639190736a",
        "colab": {
          "base_uri": "https://localhost:8080/",
          "height": 17
        }
      },
      "outputs": [
        {
          "output_type": "display_data",
          "data": {
            "text/plain": [
              "<IPython.core.display.HTML object>"
            ],
            "text/html": [
              "<style>pre { white-space: pre !important; }</style>"
            ]
          },
          "metadata": {}
        }
      ],
      "source": [
        "# Import Libraries\n",
        "from IPython.core.display import HTML\n",
        "display(HTML(\"<style>pre { white-space: pre !important; }</style>\"))\n",
        "from pyspark.sql.types import StructType, StructField, FloatType, BooleanType, DoubleType, IntegerType, StringType\n",
        "import pyspark\n",
        "from pyspark.sql.functions import col, sum as spark_sum\n",
        "from pyspark import SQLContext\n",
        "from pyspark.sql import SparkSession\n",
        "from pyspark.ml.tuning import ParamGridBuilder, CrossValidator\n",
        "from pyspark.ml.feature import OneHotEncoder, StringIndexer, VectorAssembler, StandardScaler\n",
        "from pyspark.ml.classification import LogisticRegression, LinearSVC, GBTClassifier, NaiveBayes, RandomForestClassifier, DecisionTreeClassifier\n",
        "from pyspark.ml.evaluation import BinaryClassificationEvaluator, MulticlassClassificationEvaluator\n",
        "from pyspark.ml import Pipeline\n",
        "from pyspark.sql.functions import lit\n",
        "import warnings\n",
        "warnings.filterwarnings(\"ignore\")"
      ]
    },
    {
      "cell_type": "code",
      "source": [
        "# Setup the Configuration\n",
        "conf = pyspark.SparkConf()\n",
        "spark_context = SparkSession.builder.config(conf=conf).getOrCreate()\n",
        "sqlcontext = SQLContext(sc)"
      ],
      "metadata": {
        "id": "hucCJ1z2D5s4"
      },
      "id": "hucCJ1z2D5s4",
      "execution_count": null,
      "outputs": []
    },
    {
      "cell_type": "code",
      "execution_count": null,
      "id": "35fde01a-4acb-422a-9cb0-c766f6e7e763",
      "metadata": {
        "id": "35fde01a-4acb-422a-9cb0-c766f6e7e763",
        "outputId": "49029540-3d0a-4da3-ebe9-279275609b63"
      },
      "outputs": [
        {
          "name": "stderr",
          "output_type": "stream",
          "text": [
            "[Stage 22:=========>                                              (2 + 10) / 12]\r"
          ]
        },
        {
          "name": "stdout",
          "output_type": "stream",
          "text": [
            "+----------+------------------+---------------------+-------------------------+----------------------------+------------+------------------+----------------------+------------+------------+------------------+------------------+------------------+--------------------+--------------------------------+-----------------+-----------------+-------------+--------------+----------------+------------------+-----------------+---------------+---------------------+---------------+--------+-------------------------+---------+------------------+-------------------------+------------------+-----+\n",
            "|fraud_bool|            income|name_email_similarity|prev_address_months_count|current_address_months_count|customer_age|days_since_request|intended_balcon_amount|payment_type|zip_count_4w|       velocity_6h|      velocity_24h|       velocity_4w|bank_branch_count_8w|date_of_birth_distinct_emails_4w|employment_status|credit_risk_score|email_is_free|housing_status|phone_home_valid|phone_mobile_valid|bank_months_count|has_other_cards|proposed_credit_limit|foreign_request|  source|session_length_in_minutes|device_os|keep_alive_session|device_distinct_emails_8w|device_fraud_count|month|\n",
            "+----------+------------------+---------------------+-------------------------+----------------------------+------------+------------------+----------------------+------------+------------+------------------+------------------+------------------+--------------------+--------------------------------+-----------------+-----------------+-------------+--------------+----------------+------------------+-----------------+---------------+---------------------+---------------+--------+-------------------------+---------+------------------+-------------------------+------------------+-----+\n",
            "|         0|               0.3|    0.986506310633034|                       -1|                          25|          40|0.0067353870811739|    102.45371092469456|          AA|        1059|13096.035018400871| 7850.955007125409| 6742.080561007602|                   5|                               5|               CB|              163|            1|            BC|               0|                 1|                9|              0|               1500.0|              0|INTERNET|       16.224843433978073|    linux|                 1|                        1|                 0|    0|\n",
            "|         0|               0.8|   0.6174260062650061|                       -1|                          89|          20| 0.010095097878573|   -0.8495509687507287|          AD|        1658| 9223.283430930423| 5745.251480643791|5941.6648588359885|                   3|                              18|               CA|              154|            1|            BC|               1|                 1|                2|              0|               1500.0|              0|INTERNET|         3.36385371062431|    other|                 1|                        1|                 0|    0|\n",
            "|         0|               0.8|   0.9967070206409232|                        9|                          14|          40|0.0123163495250501|   -1.4903855214855013|          AB|        1095| 4471.472148765561| 5471.988958014066| 5992.555113248597|                  15|                              11|               CA|               89|            1|            BC|               0|                 1|               30|              0|                200.0|              0|INTERNET|        22.73055923496224|  windows|                 0|                        1|                 0|    0|\n",
            "|         0|0.6000000000000001|   0.4750999462380287|                       11|                          14|          30|0.0069908306305029|   -1.8631006767118188|          AB|        3483|14431.993621381194|  6755.34447929092| 5970.336830507939|                  11|                              13|               CA|               90|            1|            BC|               0|                 1|                1|              0|                200.0|              0|INTERNET|       15.215816122068803|    linux|                 1|                        1|                 0|    0|\n",
            "|         0|               0.9|   0.8423068370138775|                       -1|                          29|          40| 5.742625847255586|    47.152497798787614|          AA|        2339| 7601.511579253147| 5124.046929628144| 5940.734211620649|                   1|                               6|               CA|               91|            0|            BC|               1|                 1|               26|              0|                200.0|              0|INTERNET|        3.743047928033851|    other|                 0|                        1|                 0|    0|\n",
            "|         0|0.6000000000000001|   0.2948404635987846|                       -1|                         369|          30| 0.024231885459018|    -1.232556198255754|          AD|        1204|11556.955513727777| 7506.951275553085| 6482.924037404599|                 705|                               5|               CB|              134|            1|            BE|               1|                 1|               30|              0|                200.0|              0|INTERNET|        6.987315503150867|    linux|                 1|                        1|                 0|    0|\n",
            "|         0|               0.2|   0.7730854651787792|                       22|                           4|          40|0.0069193596555432|   -0.5446764953031848|          AB|        1998|11723.993606010376| 7864.277143635152| 6338.799156196561|                  28|                               8|               CA|               72|            1|            BC|               1|                 1|                1|              0|                200.0|              0|INTERNET|        28.19992278516053|      x11|                 1|                        1|                 0|    0|\n",
            "|         0|               0.8|    0.153880432777335|                       -1|                         103|          40|0.0451218390683624|   -1.1011844334405805|          AB|        1548| 4999.555800752307| 4526.861667090668| 6426.790816709525|                   6|                               7|               CA|              163|            0|            BE|               1|                 1|               25|              1|                200.0|              0|INTERNET|        11.23426418538036|    other|                 1|                        1|                 0|    0|\n",
            "|         0|               0.3|   0.5236546591292989|                       21|                           2|          30|0.0352056883298541|   -0.9557372072420892|          AB|        1781|6979.9940022111805|  4335.68534636426| 6624.957941677998|                   2|                              10|               CA|               35|            0|            BC|               1|                 0|                2|              0|                200.0|              0|INTERNET|        5.329386683741856|    other|                 1|                        1|                 0|    0|\n",
            "|         0|               0.8|   0.8344745881003516|                       -1|                         134|          20|0.0172445227162768|   -1.3563931999585843|          AD|        3113| 7549.992085884615| 6273.922109554705| 6312.998834706559|                  14|                              20|               CA|              201|            1|            BD|               1|                 1|               15|              0|               1500.0|              0|INTERNET|        4.103969778315406|    other|                 1|                        1|                 0|    0|\n",
            "|         0|               0.9|   0.4750148740479939|                       -1|                          67|          50| 0.008162056665278|   -0.9476592716157056|          AB|        2998| 7452.139159999395| 6026.624267390926| 6305.932829661439|                  11|                               9|               CA|              184|            0|            BA|               1|                 1|                1|              0|               1500.0|              0|INTERNET|        2.892487656957805|    other|                 1|                        1|                 0|    0|\n",
            "|         0|               0.8|    0.333012708390063|                       -1|                          14|          40| 3.075942229916E-4|    53.106292250257646|          AA|        2355| 5585.827390065845| 6381.506857907663| 6392.364926146369|                   2|                               6|               CA|              136|            0|            BA|               0|                 1|               15|              0|               1500.0|              0|INTERNET|        32.90878723758514|    other|                 1|                        1|                 0|    0|\n",
            "|         0|               0.1|   0.7674319367073007|                       -1|                          34|          20|0.0213463384257696|   -0.6698555056935508|          AB|        2491| 6652.516397836012| 6720.662514085203| 5987.011108097575|                 692|                              22|               CA|               84|            1|            BE|               0|                 1|               30|              0|                200.0|              0|INTERNET|        4.199729019965292|    other|                 0|                        2|                 0|    0|\n",
            "|         0|               0.9|   0.8660885394584622|                       -1|                          33|          30|0.0346622107876037|   -0.9752302011240784|          AD|        1249|10746.590276044511|5163.3884706598055| 6734.662449722037|                  18|                               8|               CA|              123|            0|            BA|               1|                 1|               30|              0|               1500.0|              0|INTERNET|       20.607228892568408|macintosh|                 0|                        1|                 0|    0|\n",
            "|         0|               0.9|   0.0526151465040271|                       -1|                         156|          30| 0.025659621303539|   -1.5701643273245482|          AD|        1685|10282.430084742316| 7499.069980705641|6785.3688568162925|                  28|                              16|               CB|               88|            1|            BA|               0|                 1|                1|              0|                200.0|              0|INTERNET|        6.324050439402358|    linux|                 1|                        1|                 0|    0|\n",
            "|         0|               0.9|   0.5207181701575837|                       -1|                          31|          50|0.0057293932249281|   -1.0082232359577044|          AC|         597| 2778.119599099028|6002.7218898542615| 6303.077748491805|                  12|                              26|               CA|               80|            1|            BC|               0|                 1|               10|              0|                200.0|              0|INTERNET|       3.7319703156421618|    linux|                 1|                        1|                 0|    0|\n",
            "|         0|               0.8|   0.1223696301274405|                       -1|                          20|          30| 0.023472004150741|   -0.8816399994033612|          AD|        1655| 4721.783888802728| 3678.936076294419| 6380.760673482324|                  26|                              15|               CA|              118|            0|            BC|               0|                 0|               30|              0|                200.0|              0|INTERNET|        7.836945285596486|  windows|                 1|                        1|                 0|    0|\n",
            "|         0|0.6000000000000001|   0.4829057489273572|                       -1|                          38|          40|  0.03792492562703|   -0.9946136114088656|          AC|        2774| 5692.610361988332| 5099.913245706173| 6706.703152553651|                   1|                              10|               CA|              137|            1|            BC|               0|                 1|               -1|              0|                200.0|              0|INTERNET|        4.486325958572444|    other|                 1|                        1|                 0|    0|\n",
            "|         0|               0.2|    0.527750863793881|                       13|                         114|          20|0.0031714486317217|   -0.8483468522514769|          AB|        4389|12256.250056284667|5390.9504308211135| 6330.661519362458|                1839|                              18|               CA|               49|            0|            BB|               1|                 1|               15|              0|                200.0|              0|INTERNET|       2.8381944569562854|  windows|                 1|                        2|                 0|    0|\n",
            "|         0|               0.5|   0.6748698374650179|                       -1|                         372|          30|0.0044061446464032|    30.300980254556983|          AA|        2069|12129.970774522912| 7063.487188962284|  6772.31948351953|                1590|                              11|               CA|              268|            1|            BE|               1|                 1|               25|              0|               1500.0|              0|INTERNET|        6.336454889251335|    other|                 1|                        1|                 0|    0|\n",
            "+----------+------------------+---------------------+-------------------------+----------------------------+------------+------------------+----------------------+------------+------------+------------------+------------------+------------------+--------------------+--------------------------------+-----------------+-----------------+-------------+--------------+----------------+------------------+-----------------+---------------+---------------------+---------------+--------+-------------------------+---------+------------------+-------------------------+------------------+-----+\n",
            "only showing top 20 rows\n",
            "\n"
          ]
        },
        {
          "name": "stderr",
          "output_type": "stream",
          "text": [
            "                                                                                \r"
          ]
        }
      ],
      "source": [
        "df = spark.read.option(\"delimiter\", \",\").option(\"header\", True).csv(\"Base.csv\", header=True, inferSchema=True)\n",
        "df.show()"
      ]
    },
    {
      "cell_type": "code",
      "source": [
        "fractions={\n",
        "    1:1,\n",
        "    0:0.493737\n",
        "}\n",
        "#fractions = df.select(\"fraud_bool\").distinct().withColumn(\"fraction\", lit(0.5)).rdd.collectAsMap()\n",
        "sampled_df = df.stat.sampleBy(\"fraud_bool\", fractions, 42)\n",
        "sampled_df.show()"
      ],
      "metadata": {
        "id": "dBEqcOq_I-Vp"
      },
      "id": "dBEqcOq_I-Vp",
      "execution_count": null,
      "outputs": []
    },
    {
      "cell_type": "code",
      "source": [
        "sampled_df.count()"
      ],
      "metadata": {
        "id": "-34LWtFfJDIx"
      },
      "id": "-34LWtFfJDIx",
      "execution_count": null,
      "outputs": []
    },
    {
      "cell_type": "code",
      "source": [
        "sampled_df.groupby(\"fraud_bool\").count().show()"
      ],
      "metadata": {
        "id": "SA-iY429JD1s"
      },
      "id": "SA-iY429JD1s",
      "execution_count": null,
      "outputs": []
    },
    {
      "cell_type": "code",
      "execution_count": null,
      "id": "cb1defb1-cc24-42ab-936a-bc927da2f069",
      "metadata": {
        "id": "cb1defb1-cc24-42ab-936a-bc927da2f069",
        "outputId": "26440d1f-6440-43ff-9f81-aaab90dccad0"
      },
      "outputs": [
        {
          "name": "stdout",
          "output_type": "stream",
          "text": [
            "root\n",
            " |-- fraud_bool: integer (nullable = true)\n",
            " |-- income: double (nullable = true)\n",
            " |-- name_email_similarity: double (nullable = true)\n",
            " |-- prev_address_months_count: integer (nullable = true)\n",
            " |-- current_address_months_count: integer (nullable = true)\n",
            " |-- customer_age: integer (nullable = true)\n",
            " |-- days_since_request: double (nullable = true)\n",
            " |-- intended_balcon_amount: double (nullable = true)\n",
            " |-- payment_type: string (nullable = true)\n",
            " |-- zip_count_4w: integer (nullable = true)\n",
            " |-- velocity_6h: double (nullable = true)\n",
            " |-- velocity_24h: double (nullable = true)\n",
            " |-- velocity_4w: double (nullable = true)\n",
            " |-- bank_branch_count_8w: integer (nullable = true)\n",
            " |-- date_of_birth_distinct_emails_4w: integer (nullable = true)\n",
            " |-- employment_status: string (nullable = true)\n",
            " |-- credit_risk_score: integer (nullable = true)\n",
            " |-- email_is_free: integer (nullable = true)\n",
            " |-- housing_status: string (nullable = true)\n",
            " |-- phone_home_valid: integer (nullable = true)\n",
            " |-- phone_mobile_valid: integer (nullable = true)\n",
            " |-- bank_months_count: integer (nullable = true)\n",
            " |-- has_other_cards: integer (nullable = true)\n",
            " |-- proposed_credit_limit: double (nullable = true)\n",
            " |-- foreign_request: integer (nullable = true)\n",
            " |-- source: string (nullable = true)\n",
            " |-- session_length_in_minutes: double (nullable = true)\n",
            " |-- device_os: string (nullable = true)\n",
            " |-- keep_alive_session: integer (nullable = true)\n",
            " |-- device_distinct_emails_8w: integer (nullable = true)\n",
            " |-- device_fraud_count: integer (nullable = true)\n",
            " |-- month: integer (nullable = true)\n",
            "\n"
          ]
        }
      ],
      "source": [
        "sampled_df.printSchema()"
      ]
    },
    {
      "cell_type": "code",
      "execution_count": null,
      "id": "c050b6ac-ef40-44ae-bf29-21e040737e6c",
      "metadata": {
        "id": "c050b6ac-ef40-44ae-bf29-21e040737e6c",
        "outputId": "06e6dddd-94b8-4e55-fe11-447c931cb11c"
      },
      "outputs": [
        {
          "name": "stderr",
          "output_type": "stream",
          "text": [
            "[Stage 24:>                                                       (0 + 12) / 12]\r"
          ]
        },
        {
          "name": "stdout",
          "output_type": "stream",
          "text": [
            "+----------+------+---------------------+-------------------------+----------------------------+------------+------------------+----------------------+------------+------------+-----------+------------+-----------+--------------------+--------------------------------+-----------------+-----------------+-------------+--------------+----------------+------------------+-----------------+---------------+---------------------+---------------+------+-------------------------+---------+------------------+-------------------------+------------------+-----+\n",
            "|fraud_bool|income|name_email_similarity|prev_address_months_count|current_address_months_count|customer_age|days_since_request|intended_balcon_amount|payment_type|zip_count_4w|velocity_6h|velocity_24h|velocity_4w|bank_branch_count_8w|date_of_birth_distinct_emails_4w|employment_status|credit_risk_score|email_is_free|housing_status|phone_home_valid|phone_mobile_valid|bank_months_count|has_other_cards|proposed_credit_limit|foreign_request|source|session_length_in_minutes|device_os|keep_alive_session|device_distinct_emails_8w|device_fraud_count|month|\n",
            "+----------+------+---------------------+-------------------------+----------------------------+------------+------------------+----------------------+------------+------------+-----------+------------+-----------+--------------------+--------------------------------+-----------------+-----------------+-------------+--------------+----------------+------------------+-----------------+---------------+---------------------+---------------+------+-------------------------+---------+------------------+-------------------------+------------------+-----+\n",
            "|         0|     0|                    0|                        0|                           0|           0|                 0|                     0|           0|           0|          0|           0|          0|                   0|                               0|                0|                0|            0|             0|               0|                 0|                0|              0|                    0|              0|     0|                        0|        0|                 0|                        0|                 0|    0|\n",
            "+----------+------+---------------------+-------------------------+----------------------------+------------+------------------+----------------------+------------+------------+-----------+------------+-----------+--------------------+--------------------------------+-----------------+-----------------+-------------+--------------+----------------+------------------+-----------------+---------------+---------------------+---------------+------+-------------------------+---------+------------------+-------------------------+------------------+-----+\n",
            "\n"
          ]
        },
        {
          "name": "stderr",
          "output_type": "stream",
          "text": [
            "                                                                                \r"
          ]
        }
      ],
      "source": [
        "null_counts = sampled_df.select([spark_sum(col(c).isNull().cast(\"int\")).alias(c) for c in sampled_df.columns])\n",
        "null_counts.show()"
      ]
    },
    {
      "cell_type": "code",
      "source": [
        "fractions={\n",
        "    1:0.8,\n",
        "    0:0.8\n",
        "}\n",
        "train = sampled_df.stat.sampleBy(\"fraud_bool\", fractions, 42)\n",
        "train.groupby(\"fraud_bool\").count().show()"
      ],
      "metadata": {
        "id": "2C3LZEalEAqM"
      },
      "id": "2C3LZEalEAqM",
      "execution_count": null,
      "outputs": []
    },
    {
      "cell_type": "code",
      "source": [
        "test=sampled_df.subtract(train)\n",
        "test.groupby(\"fraud_bool\").count().show()"
      ],
      "metadata": {
        "id": "Yhlc24wiJIMU"
      },
      "id": "Yhlc24wiJIMU",
      "execution_count": null,
      "outputs": []
    },
    {
      "cell_type": "code",
      "source": [
        "# fractions={\n",
        "#     1:1,\n",
        "#     0:0.1\n",
        "# }\n",
        "# test = test.stat.sampleBy(\"fraud_bool\", fractions, 42)\n",
        "# test.groupby(\"fraud_bool\").count().show()"
      ],
      "metadata": {
        "id": "x6gj8d9gTsDo"
      },
      "id": "x6gj8d9gTsDo",
      "execution_count": null,
      "outputs": []
    },
    {
      "cell_type": "code",
      "source": [
        "fractions={\n",
        "    1:1,\n",
        "    0:0.1\n",
        "}\n",
        "train = train.stat.sampleBy(\"fraud_bool\", fractions, 42)\n",
        "train.groupby(\"fraud_bool\").count().show()"
      ],
      "metadata": {
        "id": "Te-cYMM5JLnJ"
      },
      "id": "Te-cYMM5JLnJ",
      "execution_count": null,
      "outputs": []
    },
    {
      "cell_type": "code",
      "source": [
        "class_counts = train.groupBy(\"fraud_bool\").count().collect()\n",
        "\n",
        "# Get counts for majority and minority classes\n",
        "majority_count = max(class_counts, key=lambda x: x['count'])['count']\n",
        "minority_count = min(class_counts, key=lambda x: x['count'])['count']\n",
        "\n",
        "minority_df = train.filter(col(\"fraud_bool\") == 1)\n",
        "# Calculate the ratio to match the majority class\n",
        "ratio = majority_count // minority_count\n",
        "\n",
        "# Create an empty DataFrame to store oversampled data\n",
        "oversampled_minority_df = minority_df\n",
        "\n",
        "# Duplicate the minority class rows\n",
        "for i in range(ratio//4 - 1):  # We already have one copy, so we need ratio-1 more copies\n",
        "    oversampled_minority_df = oversampled_minority_df.union(minority_df)\n",
        "\n",
        "# Combine with the original data\n",
        "balanced_train = train.union(oversampled_minority_df)\n",
        "\n",
        "balanced_train.groupby(\"fraud_bool\").count().show()"
      ],
      "metadata": {
        "id": "atMH8speJNWd"
      },
      "id": "atMH8speJNWd",
      "execution_count": null,
      "outputs": []
    },
    {
      "cell_type": "code",
      "execution_count": null,
      "id": "15b6f822-6538-4789-9b5b-a4042e7387f7",
      "metadata": {
        "id": "15b6f822-6538-4789-9b5b-a4042e7387f7",
        "outputId": "e2d69c61-8daa-406d-ec78-02c715c97d74"
      },
      "outputs": [
        {
          "name": "stderr",
          "output_type": "stream",
          "text": [
            "                                                                                \r"
          ]
        }
      ],
      "source": [
        "def create_pipeline(algo):\n",
        "    categoricalColumns = ['payment_type','employment_status','housing_status','source','device_os']\n",
        "\n",
        "    stages=[]\n",
        "\n",
        "    for categoricalCol in categoricalColumns:\n",
        "        stringIndexer = StringIndexer(inputCol = categoricalCol, outputCol = categoricalCol + 'Indexer')\n",
        "        encoder = OneHotEncoder(inputCols=[stringIndexer.getOutputCol()], outputCols=[categoricalCol + \"Vec\"])\n",
        "        stages += [stringIndexer, encoder]\n",
        "\n",
        "    label_stringIdx = StringIndexer(inputCol = 'fraud_bool', outputCol = 'label')\n",
        "    stages += [label_stringIdx]\n",
        "\n",
        "    numericColumns = ['income','name_email_similarity','prev_address_months_count','current_address_months_count','customer_age','days_since_request', \\\n",
        "                     'intended_balcon_amount','zip_count_4w','velocity_6h','velocity_24h','velocity_4w','bank_branch_count_8w', \\\n",
        "                      'date_of_birth_distinct_emails_4w','credit_risk_score','email_is_free','phone_home_valid','phone_mobile_valid','bank_months_count', \\\n",
        "                     'has_other_cards', 'proposed_credit_limit', 'foreign_request', 'session_length_in_minutes', 'keep_alive_session', \\\n",
        "                     'device_distinct_emails_8w', 'device_fraud_count', 'month']\n",
        "\n",
        "    va1 = [VectorAssembler(inputCols=[f], outputCol=('vec_' + f)) for f in numericColumns]\n",
        "    ss = [StandardScaler(inputCol='vec_' + f, outputCol='scaled_' + f, withMean=True, withStd=True) for f in numericColumns]\n",
        "    assemblerInputs =  [\"scaled_\" + n for n in numericColumns] +[c + \"Vec\" for c in categoricalColumns]\n",
        "    va2 = VectorAssembler(inputCols=assemblerInputs, outputCol=\"features\")\n",
        "\n",
        "    stages += va1 + ss + [va2]\n",
        "\n",
        "    if algo==\"lr\": # Logistic Regression\n",
        "        model = LogisticRegression(maxIter=10)\n",
        "        paramGrid = ParamGridBuilder() \\\n",
        "            .addGrid(model.regParam, [0.01]) \\\n",
        "            .addGrid(model.elasticNetParam, [0.5]) \\\n",
        "            .build()\n",
        "        #0.1\n",
        "        #0.8,1.0\n",
        "    elif algo==\"svc\": # Linear Support Vector Classifier (SVC)\n",
        "        model = LinearSVC(maxIter=10)\n",
        "        paramGrid = ParamGridBuilder() \\\n",
        "            .addGrid(model.regParam, [0.01]) \\\n",
        "            .build()\n",
        "    elif algo==\"gbt\": # Gradient-Boosted Trees\n",
        "        model = GBTClassifier(maxIter=10)\n",
        "        paramGrid = ParamGridBuilder() \\\n",
        "            .build()\n",
        "    elif algo == \"rf\": # Random Forests\n",
        "      model = RandomForestClassifier()\n",
        "      paramGrid = ParamGridBuilder() \\\n",
        "          .addGrid(model.numTrees, [10, 20]) \\\n",
        "          .addGrid(model.maxDepth, [5, 10]) \\\n",
        "          .build()\n",
        "    elif algo == \"dt\": # Decision Trees\n",
        "        model = DecisionTreeClassifier()\n",
        "        paramGrid = ParamGridBuilder() \\\n",
        "            .addGrid(model.maxDepth, [5, 10]) \\\n",
        "            .addGrid(model.maxBins, [32, 64]) \\\n",
        "            .build()\n",
        "    elif algo == \"nb\": # Naive Bayes\n",
        "        model = NaiveBayes(smoothing=1.0, modelType=\"gaussian\")\n",
        "        paramGrid = ParamGridBuilder() \\\n",
        "            .addGrid(model.smoothing, [1.0, 0.1, 0.01]) \\\n",
        "            .build()\n",
        "\n",
        "    pipeline = Pipeline(stages=stages+[model])\n",
        "\n",
        "    crossval = CrossValidator(estimator=pipeline,\n",
        "                              estimatorParamMaps=paramGrid,\n",
        "                              evaluator=BinaryClassificationEvaluator(),\n",
        "                              numFolds=5)\n",
        "\n",
        "    bestModel = crossval.fit(balanced_train)\n",
        "    print(bestModel.bestModel.stages[-1].extractParamMap())\n",
        "    return bestModel"
      ]
    },
    {
      "cell_type": "code",
      "source": [
        "def evaluate(model):\n",
        "    evaluatorMulti = MulticlassClassificationEvaluator()\n",
        "    evaluator = BinaryClassificationEvaluator()\n",
        "    # Make predicitons\n",
        "    predictions = model.transform(test)\n",
        "    predictionAndTarget = predictions.select(\"label\", \"prediction\")\n",
        "    # Get metrics\n",
        "    print('Accuracy', evaluatorMulti.evaluate(predictionAndTarget, {evaluatorMulti.metricName: \"accuracy\"}))\n",
        "    print('F1 Score', evaluatorMulti.evaluate(predictionAndTarget, {evaluatorMulti.metricName: \"f1\", evaluatorMulti.metricLabel: 1}))\n",
        "    print('Precision', evaluatorMulti.evaluate(predictionAndTarget, {evaluatorMulti.metricName: \"precisionByLabel\", evaluatorMulti.metricLabel: 1}))\n",
        "    print('Recall', evaluatorMulti.evaluate(predictionAndTarget, {evaluatorMulti.metricName: \"recallByLabel\", evaluatorMulti.metricLabel: 1}))\n",
        "    print('Test Area Under ROC', evaluator.evaluate(predictions))"
      ],
      "metadata": {
        "id": "o8IcvlagEDc-"
      },
      "id": "o8IcvlagEDc-",
      "execution_count": null,
      "outputs": []
    },
    {
      "cell_type": "code",
      "execution_count": null,
      "id": "c63ce0cb-cdf7-4a45-8a57-4fbde49dc58b",
      "metadata": {
        "id": "c63ce0cb-cdf7-4a45-8a57-4fbde49dc58b",
        "outputId": "94f96c13-e864-4f7c-bd97-64b2cac3625f"
      },
      "outputs": [
        {
          "name": "stdout",
          "output_type": "stream",
          "text": [
            "+-----+--------------------+\n",
            "|label|            features|\n",
            "+-----+--------------------+\n",
            "|  0.0|(41,[1,4,10,12,15...|\n",
            "|  0.0|(41,[3,4,10,11,15...|\n",
            "|  0.0|(41,[0,4,10,13,15...|\n",
            "|  0.0|(41,[0,4,10,12,15...|\n",
            "|  0.0|(41,[1,4,10,11,15...|\n",
            "|  0.0|(41,[3,7,10,12,15...|\n",
            "|  0.0|(41,[0,4,10,15,16...|\n",
            "|  0.0|(41,[0,7,10,11,15...|\n",
            "|  0.0|(41,[0,4,10,11,15...|\n",
            "|  0.0|(41,[3,8,10,11,15...|\n",
            "|  0.0|(41,[0,6,10,11,15...|\n",
            "|  0.0|(41,[1,6,10,11,15...|\n",
            "|  0.0|(41,[0,7,10,11,15...|\n",
            "|  0.0|(41,[3,6,10,14,15...|\n",
            "|  0.0|(41,[3,6,10,12,15...|\n",
            "|  0.0|(41,[2,4,10,12,15...|\n",
            "|  0.0|(41,[3,4,10,13,15...|\n",
            "|  0.0|(41,[2,4,10,11,15...|\n",
            "|  0.0|(41,[0,5,10,13,15...|\n",
            "|  0.0|(41,[1,7,10,11,15...|\n",
            "+-----+--------------------+\n",
            "only showing top 20 rows\n",
            "\n"
          ]
        }
      ],
      "source": [
        "lr=create_pipeline(\"lr\")\n",
        "evaluate(lr)\n",
        "#Accuracy 0.9058692354826072\n",
        "#F1 Score 0.9339703069357408\n",
        "#Precision 0.13497057032677084\n",
        "#Recall 0.6109324758842444\n",
        "#Test Area Under ROC 0.869935273369259"
      ]
    },
    {
      "cell_type": "code",
      "execution_count": null,
      "id": "bd417d6b-2a4a-443f-b9d4-0db79b364b56",
      "metadata": {
        "id": "bd417d6b-2a4a-443f-b9d4-0db79b364b56"
      },
      "outputs": [],
      "source": [
        "svc=create_pipeline(\"svc\")\n",
        "evaluate(svc)\n",
        "# Print the coefficients and intercept for linear SVC\n",
        "print(\"Coefficients: \" + str(svc.bestModel.stages[-1].coefficients))\n",
        "print(\"Intercept: \" + str(svc.bestModel.stages[-1].intercept))\n",
        "# Accuracy 0.8998724297610318\n",
        "# F1 Score 0.930516083840461\n",
        "# Precision 0.129317727662004\n",
        "# Recall 0.6242535599448783\n",
        "# Test Area Under ROC 0.8710241698531431\n",
        "# Coefficients: [0.18162636962736106,-0.22788473585367736,-0.20943314909151564,0.046448616641765285,0.1909327473303072,0.030594283142206916,-0.058824375617851234,0.08128620155228171,-0.01399150840303473,0.014019050986985518,-0.0062829752201177605,-0.0245152683181686,-0.08514997680534937,0.12660353669710017,0.20170556569820722,-0.3025997810981302,-0.04842151057755718,0.09817816633879688,-0.3033004171696736,0.09949297467557096,0.06936473982720699,0.006742787911613915,-0.22717653774102303,0.15025344196468782,0.0,0.0326121240493045,-0.08929988396754016,0.34593318712312526,-0.16625979913164,-0.04187659569492681,0.15986562357757406,-0.16954852464391817,0.26189882125239,-0.3435954089663676,-0.2734752472102851,-0.28859470198478676,-0.2617824430890552,0.6824148503478419,-0.28058560341955074,-0.3661877889612033,-0.005755512726188675,-0.1405303872777505,-0.470436887581395,0.4836975973996795,-0.2269184372431432,-0.35203164656093544,0.12324651269747748]\n",
        "# Intercept: -0.5396847365626736"
      ]
    },
    {
      "cell_type": "code",
      "source": [
        "# Train a GBT model.\n",
        "gbt=create_pipeline(\"gbt\")\n",
        "evaluate(gbt)\n",
        "gbtModel = gbt.bestModel.stages[-1]\n",
        "print(gbtModel)  # summary only\n",
        "# Accuracy 0.8979538537261559\n",
        "# F1 Score 0.929257517233363\n",
        "# Precision 0.12263615733736763\n",
        "# Recall 0.5957740009186955\n",
        "# Test Area Under ROC 0.8630938740214331"
      ],
      "metadata": {
        "id": "vmyPg2mlEJGv"
      },
      "id": "vmyPg2mlEJGv",
      "execution_count": null,
      "outputs": []
    },
    {
      "cell_type": "code",
      "source": [
        "rf=create_pipeline('rf')\n",
        "evaluate(rf)\n",
        "# Accuracy 0.9207161125319693\n",
        "# F1 Score 0.941783371494845\n",
        "# Precision 0.1591158871657101\n",
        "# Recall 0.5687472719336534\n",
        "# Test Area Under ROC 0.874543078480858"
      ],
      "metadata": {
        "id": "3DSYgg6Oj-ay"
      },
      "id": "3DSYgg6Oj-ay",
      "execution_count": null,
      "outputs": []
    },
    {
      "cell_type": "code",
      "source": [
        "dt=create_pipeline(\"dt\")\n",
        "evaluate(dt)\n",
        "# Accuracy 0.8745896852407515\n",
        "# F1 Score 0.9147282344077521\n",
        "# Precision 0.10512820512820513\n",
        "# Recall 0.5905718027062418\n",
        "# Test Area Under ROC 0.5446640260565774"
      ],
      "metadata": {
        "id": "IzUbF94WkIG1"
      },
      "id": "IzUbF94WkIG1",
      "execution_count": null,
      "outputs": []
    },
    {
      "cell_type": "code",
      "source": [
        "nb = create_pipeline(\"nb\")\n",
        "evaluate(nb)\n",
        "# Accuracy 0.7269569245020843\n",
        "# F1 Score 0.8218578384985008\n",
        "# Precision 0.06369068541300527\n",
        "# Recall 0.7909209951986033\n",
        "# Test Area Under ROC 0.6860004953308981"
      ],
      "metadata": {
        "id": "KyNj0ecJkQIP"
      },
      "id": "KyNj0ecJkQIP",
      "execution_count": null,
      "outputs": []
    }
  ],
  "metadata": {
    "kernelspec": {
      "display_name": "Python 3 (ipykernel)",
      "language": "python",
      "name": "python3"
    },
    "language_info": {
      "codemirror_mode": {
        "name": "ipython",
        "version": 3
      },
      "file_extension": ".py",
      "mimetype": "text/x-python",
      "name": "python",
      "nbconvert_exporter": "python",
      "pygments_lexer": "ipython3",
      "version": "3.10.12"
    },
    "colab": {
      "provenance": []
    }
  },
  "nbformat": 4,
  "nbformat_minor": 5
}